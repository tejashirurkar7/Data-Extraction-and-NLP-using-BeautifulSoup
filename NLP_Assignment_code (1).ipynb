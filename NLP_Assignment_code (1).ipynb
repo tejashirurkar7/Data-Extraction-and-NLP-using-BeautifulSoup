{
 "cells": [
  {
   "cell_type": "code",
   "execution_count": 5,
   "id": "ba983952-b0a8-4c7e-9734-645fc281e051",
   "metadata": {},
   "outputs": [
    {
     "name": "stderr",
     "output_type": "stream",
     "text": [
      "\n",
      "[notice] A new release of pip is available: 24.0 -> 24.1\n",
      "[notice] To update, run: python.exe -m pip install --upgrade pip\n"
     ]
    },
    {
     "name": "stdout",
     "output_type": "stream",
     "text": [
      "Requirement already satisfied: requests in c:\\users\\hitej\\appdata\\local\\programs\\python\\python312\\lib\\site-packages (2.32.3)\n",
      "Requirement already satisfied: charset-normalizer<4,>=2 in c:\\users\\hitej\\appdata\\local\\programs\\python\\python312\\lib\\site-packages (from requests) (3.3.2)\n",
      "Requirement already satisfied: idna<4,>=2.5 in c:\\users\\hitej\\appdata\\local\\programs\\python\\python312\\lib\\site-packages (from requests) (3.7)\n",
      "Requirement already satisfied: urllib3<3,>=1.21.1 in c:\\users\\hitej\\appdata\\local\\programs\\python\\python312\\lib\\site-packages (from requests) (2.2.1)\n",
      "Requirement already satisfied: certifi>=2017.4.17 in c:\\users\\hitej\\appdata\\local\\programs\\python\\python312\\lib\\site-packages (from requests) (2024.6.2)\n",
      "Requirement already satisfied: beautifulsoup4 in c:\\users\\hitej\\appdata\\local\\programs\\python\\python312\\lib\\site-packages (4.12.3)\n",
      "Requirement already satisfied: soupsieve>1.2 in c:\\users\\hitej\\appdata\\local\\programs\\python\\python312\\lib\\site-packages (from beautifulsoup4) (2.5)\n"
     ]
    },
    {
     "name": "stderr",
     "output_type": "stream",
     "text": [
      "\n",
      "[notice] A new release of pip is available: 24.0 -> 24.1\n",
      "[notice] To update, run: python.exe -m pip install --upgrade pip\n"
     ]
    },
    {
     "name": "stdout",
     "output_type": "stream",
     "text": [
      "Requirement already satisfied: nltk in c:\\users\\hitej\\appdata\\local\\programs\\python\\python312\\lib\\site-packages (3.8.1)\n",
      "Requirement already satisfied: click in c:\\users\\hitej\\appdata\\local\\programs\\python\\python312\\lib\\site-packages (from nltk) (8.1.7)\n",
      "Requirement already satisfied: joblib in c:\\users\\hitej\\appdata\\local\\programs\\python\\python312\\lib\\site-packages (from nltk) (1.4.2)\n",
      "Requirement already satisfied: regex>=2021.8.3 in c:\\users\\hitej\\appdata\\local\\programs\\python\\python312\\lib\\site-packages (from nltk) (2024.5.15)\n",
      "Requirement already satisfied: tqdm in c:\\users\\hitej\\appdata\\local\\programs\\python\\python312\\lib\\site-packages (from nltk) (4.66.4)\n",
      "Requirement already satisfied: colorama in c:\\users\\hitej\\appdata\\local\\programs\\python\\python312\\lib\\site-packages (from click->nltk) (0.4.6)\n"
     ]
    },
    {
     "name": "stderr",
     "output_type": "stream",
     "text": [
      "\n",
      "[notice] A new release of pip is available: 24.0 -> 24.1\n",
      "[notice] To update, run: python.exe -m pip install --upgrade pip\n"
     ]
    },
    {
     "name": "stdout",
     "output_type": "stream",
     "text": [
      "Requirement already satisfied: openpyxl in c:\\users\\hitej\\appdata\\local\\programs\\python\\python312\\lib\\site-packages (3.1.4)\n",
      "Requirement already satisfied: et-xmlfile in c:\\users\\hitej\\appdata\\local\\programs\\python\\python312\\lib\\site-packages (from openpyxl) (1.1.0)\n"
     ]
    },
    {
     "name": "stderr",
     "output_type": "stream",
     "text": [
      "\n",
      "[notice] A new release of pip is available: 24.0 -> 24.1\n",
      "[notice] To update, run: python.exe -m pip install --upgrade pip\n"
     ]
    },
    {
     "name": "stdout",
     "output_type": "stream",
     "text": [
      "Requirement already satisfied: pandas in c:\\users\\hitej\\appdata\\local\\programs\\python\\python312\\lib\\site-packages (2.2.2)\n",
      "Requirement already satisfied: numpy>=1.26.0 in c:\\users\\hitej\\appdata\\local\\programs\\python\\python312\\lib\\site-packages (from pandas) (1.26.4)\n",
      "Requirement already satisfied: python-dateutil>=2.8.2 in c:\\users\\hitej\\appdata\\local\\programs\\python\\python312\\lib\\site-packages (from pandas) (2.9.0.post0)\n",
      "Requirement already satisfied: pytz>=2020.1 in c:\\users\\hitej\\appdata\\local\\programs\\python\\python312\\lib\\site-packages (from pandas) (2024.1)\n",
      "Requirement already satisfied: tzdata>=2022.7 in c:\\users\\hitej\\appdata\\local\\programs\\python\\python312\\lib\\site-packages (from pandas) (2024.1)\n",
      "Requirement already satisfied: six>=1.5 in c:\\users\\hitej\\appdata\\local\\programs\\python\\python312\\lib\\site-packages (from python-dateutil>=2.8.2->pandas) (1.16.0)\n"
     ]
    },
    {
     "name": "stderr",
     "output_type": "stream",
     "text": [
      "\n",
      "[notice] A new release of pip is available: 24.0 -> 24.1\n",
      "[notice] To update, run: python.exe -m pip install --upgrade pip\n"
     ]
    }
   ],
   "source": [
    "#installing necessary libraries\n",
    "!pip install requests\n",
    "!pip install beautifulsoup4\n",
    "!pip install nltk\n",
    "!pip install openpyxl\n",
    "!pip install pandas"
   ]
  },
  {
   "cell_type": "code",
   "execution_count": 2,
   "id": "bc330e9d-95fb-42d5-9c0c-494b9facd0c5",
   "metadata": {},
   "outputs": [
    {
     "name": "stderr",
     "output_type": "stream",
     "text": [
      "[nltk_data] Downloading package punkt to\n",
      "[nltk_data]     C:\\Users\\hitej\\AppData\\Roaming\\nltk_data...\n",
      "[nltk_data]   Package punkt is already up-to-date!\n",
      "[nltk_data] Downloading package stopwords to\n",
      "[nltk_data]     C:\\Users\\hitej\\AppData\\Roaming\\nltk_data...\n",
      "[nltk_data]   Package stopwords is already up-to-date!\n"
     ]
    }
   ],
   "source": [
    "# Now Importing the libraries\n",
    "\n",
    "import requests\n",
    "from bs4 import BeautifulSoup\n",
    "import nltk\n",
    "import pandas as pd\n",
    "import re\n",
    "\n",
    "from nltk.corpus import stopwords\n",
    "from nltk.tokenize import word_tokenize, sent_tokenize\n",
    "\n",
    "nltk.download('punkt')\n",
    "nltk.download('stopwords')\n",
    "\n",
    "# Loading input data\n",
    "input_df = pd.read_excel('Input.xlsx')\n",
    "\n",
    "# Loading stop words\n",
    "stop_words_files = [\n",
    "    'StopWords_Auditor.txt', 'StopWords_Currencies.txt', \n",
    "    'StopWords_DatesandNumbers.txt', 'StopWords_Generic.txt', \n",
    "    'StopWords_GenericLong.txt', 'StopWords_Geographic.txt', \n",
    "    'StopWords_Names.txt'\n",
    "]\n",
    "\n",
    "stop_words = set()\n",
    "for file in stop_words_files:\n",
    "    with open(file, 'r') as f:\n",
    "        stop_words.update(f.read().splitlines())\n",
    "\n",
    "# Load positive and negative words\n",
    "with open('positive-words.txt', 'r') as f:\n",
    "    positive_words = set(f.read().splitlines())\n",
    "\n",
    "with open('negative-words.txt', 'r') as f:\n",
    "    negative_words = set(f.read().splitlines())\n",
    "\n",
    "# Filtering out stop words from positive and negative words\n",
    "positive_words = positive_words - stop_words\n",
    "negative_words = negative_words - stop_words\n"
   ]
  },
  {
   "cell_type": "code",
   "execution_count": 6,
   "id": "a828baed-beec-45f1-9e95-a305b6f65fc1",
   "metadata": {},
   "outputs": [],
   "source": [
    "# defining the function to extract urls\n",
    "def extract_text(url):\n",
    "    try:\n",
    "        response = requests.get(url)\n",
    "        soup = BeautifulSoup(response.content, 'html.parser')\n",
    "        title = soup.find('title').text.strip()\n",
    "        paragraphs = soup.find_all('p')\n",
    "        article_text = ' '.join([p.get_text() for p in paragraphs])\n",
    "        return title, article_text\n",
    "    except Exception as e:\n",
    "        print(f\"Error extracting {url}: {e}\")\n",
    "        return None, None\n",
    "\n",
    "for index, row in input_df.iterrows():\n",
    "    url_id = row['URL_ID']\n",
    "    url = row['URL']\n",
    "    title, text = extract_text(url)\n",
    "    if text:\n",
    "        with open(f'{url_id}.txt', 'w', encoding='utf-8') as f:\n",
    "            f.write(f'{title}\\n{text}')\n"
   ]
  },
  {
   "cell_type": "code",
   "execution_count": 7,
   "id": "980b3656-2151-4173-ae35-9e99e986ae33",
   "metadata": {},
   "outputs": [],
   "source": [
    "# Analysis Part\n",
    "\n",
    "def analyze_text(text):\n",
    "    # Clean text\n",
    "    tokens = word_tokenize(text)\n",
    "    cleaned_tokens = [word for word in tokens if word.lower() not in stop_words and word.isalpha()]\n",
    "    \n",
    "    # Positive and Negative Scores\n",
    "    positive_score = sum(1 for word in cleaned_tokens if word.lower() in positive_words)\n",
    "    negative_score = sum(1 for word in cleaned_tokens if word.lower() in negative_words)\n",
    "    \n",
    "    # Polarity Score\n",
    "    polarity_score = (positive_score - negative_score) / ((positive_score + negative_score) + 0.000001)\n",
    "    \n",
    "    # Subjectivity Score\n",
    "    subjectivity_score = (positive_score + negative_score) / (len(cleaned_tokens) + 0.000001)\n",
    "    \n",
    "    # Readability Analysis\n",
    "    sentences = sent_tokenize(text)\n",
    "    avg_sentence_length = len(cleaned_tokens) / len(sentences)\n",
    "    complex_words = [word for word in cleaned_tokens if len(word) > 2]\n",
    "    percentage_complex_words = len(complex_words) / len(cleaned_tokens)\n",
    "    fog_index = 0.4 * (avg_sentence_length + percentage_complex_words)\n",
    "    \n",
    "    # Additional Metrics\n",
    "    avg_words_per_sentence = len(cleaned_tokens) / len(sentences)\n",
    "    complex_word_count = len(complex_words)\n",
    "    word_count = len(cleaned_tokens)\n",
    "    syllable_count = sum([sum([1 for char in word if char in 'aeiouAEIOU']) for word in cleaned_tokens])\n",
    "    syllables_per_word = syllable_count / len(cleaned_tokens)\n",
    "    personal_pronouns = len(re.findall(r'\\b(I|we|my|ours|us)\\b', text, re.IGNORECASE))\n",
    "    avg_word_length = sum(len(word) for word in cleaned_tokens) / len(cleaned_tokens)\n",
    "    \n",
    "    return [\n",
    "        positive_score, negative_score, polarity_score, subjectivity_score, avg_sentence_length, \n",
    "        percentage_complex_words, fog_index, avg_words_per_sentence, complex_word_count, word_count, \n",
    "        syllables_per_word, personal_pronouns, avg_word_length\n",
    "    ]\n",
    "\n",
    "results = []\n",
    "for index, row in input_df.iterrows():\n",
    "    url_id = row['URL_ID']\n",
    "    with open(f'{url_id}.txt', 'r', encoding='utf-8') as f:\n",
    "        text = f.read()\n",
    "        analysis_results = analyze_text(text)\n",
    "        results.append([url_id] + analysis_results)\n",
    "\n",
    "columns = [\n",
    "    'URL_ID', 'POSITIVE SCORE', 'NEGATIVE SCORE', 'POLARITY SCORE', 'SUBJECTIVITY SCORE',\n",
    "    'AVG SENTENCE LENGTH', 'PERCENTAGE OF COMPLEX WORDS', 'FOG INDEX', \n",
    "    'AVG NUMBER OF WORDS PER SENTENCE', 'COMPLEX WORD COUNT', 'WORD COUNT', \n",
    "    'SYLLABLE PER WORD', 'PERSONAL PRONOUNS', 'AVG WORD LENGTH'\n",
    "]\n",
    "output_df = pd.DataFrame(results, columns=columns)\n",
    "output_df.to_excel('Output Data Structure.xlsx', index=False)\n"
   ]
  },
  {
   "cell_type": "code",
   "execution_count": null,
   "id": "1a42de52-bdbd-4173-89c4-c6967448964c",
   "metadata": {},
   "outputs": [],
   "source": []
  }
 ],
 "metadata": {
  "kernelspec": {
   "display_name": "Python 3 (ipykernel)",
   "language": "python",
   "name": "python3"
  },
  "language_info": {
   "codemirror_mode": {
    "name": "ipython",
    "version": 3
   },
   "file_extension": ".py",
   "mimetype": "text/x-python",
   "name": "python",
   "nbconvert_exporter": "python",
   "pygments_lexer": "ipython3",
   "version": "3.12.4"
  }
 },
 "nbformat": 4,
 "nbformat_minor": 5
}
